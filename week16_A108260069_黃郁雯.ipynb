{
  "nbformat": 4,
  "nbformat_minor": 0,
  "metadata": {
    "colab": {
      "name": "week16-A108260069-黃郁雯.ipynb",
      "provenance": [],
      "include_colab_link": true
    },
    "kernelspec": {
      "name": "python3",
      "display_name": "Python 3"
    }
  },
  "cells": [
    {
      "cell_type": "markdown",
      "metadata": {
        "id": "view-in-github",
        "colab_type": "text"
      },
      "source": [
        "<a href=\"https://colab.research.google.com/github/yuwnhuang/Computational-Thinking-and-Programming-Design/blob/master/week16_A108260069_%E9%BB%83%E9%83%81%E9%9B%AF.ipynb\" target=\"_parent\"><img src=\"https://colab.research.google.com/assets/colab-badge.svg\" alt=\"Open In Colab\"/></a>"
      ]
    },
    {
      "cell_type": "code",
      "metadata": {
        "id": "KsqxFf0CuTup",
        "colab_type": "code",
        "colab": {
          "base_uri": "https://localhost:8080/",
          "height": 119
        },
        "outputId": "f90999bd-cb4c-4243-9e5c-a6995f449ee3"
      },
      "source": [
        "while True:\n",
        "   acc = input('請輸入帳號?')\n",
        "   pwd = input('請輸入密碼?')\n",
        "   if (acc == 'abc' and pwd == '123'):\n",
        "       print('帳號與密碼正確')\n",
        "       break\n",
        "   else:\n",
        "       print('登入失敗')"
      ],
      "execution_count": 1,
      "outputs": [
        {
          "output_type": "stream",
          "text": [
            "請輸入帳號?123\n",
            "請輸入密碼?123\n",
            "登入失敗\n",
            "請輸入帳號?abc\n",
            "請輸入密碼?123\n",
            "帳號與密碼正確\n"
          ],
          "name": "stdout"
        }
      ]
    },
    {
      "cell_type": "code",
      "metadata": {
        "id": "aCOV6-Jvu2FS",
        "colab_type": "code",
        "colab": {
          "base_uri": "https://localhost:8080/",
          "height": 51
        },
        "outputId": "1e30eeea-ef2a-40b6-ccc2-00bd13ec73ae"
      },
      "source": [
        "answer='b246'\n",
        "\n",
        "while True:\n",
        "  password=input('enter your password?')\n",
        "  if password==answer:\n",
        "    print('enter the system')\n",
        "    break\n",
        "  else:\n",
        "    print('try again')  "
      ],
      "execution_count": 3,
      "outputs": [
        {
          "output_type": "stream",
          "text": [
            "enter your password?b246\n",
            "enter the system\n"
          ],
          "name": "stdout"
        }
      ]
    },
    {
      "cell_type": "code",
      "metadata": {
        "id": "3s-UwNVmwv8p",
        "colab_type": "code",
        "colab": {
          "base_uri": "https://localhost:8080/",
          "height": 51
        },
        "outputId": "ae791909-9e23-4ecd-fb1e-62f63f62e960"
      },
      "source": [
        "password = \"a123456\"\n",
        "times = 0\n",
        "while times <= 3:\n",
        "   answer = input(\"Enter Your Password: \") \n",
        "   if answer == password:\n",
        "       print(\"登入成功\")\n",
        "       break\n",
        "   else:\n",
        "       times = times + 1\n",
        "       chance = 3 - times\n",
        "       print(\"密碼錯誤!還有\", chance, \"次機會\")"
      ],
      "execution_count": 4,
      "outputs": [
        {
          "output_type": "stream",
          "text": [
            "Enter Your Password: a123456\n",
            "登入成功\n"
          ],
          "name": "stdout"
        }
      ]
    },
    {
      "cell_type": "code",
      "metadata": {
        "id": "BpyiIm4TzWjM",
        "colab_type": "code",
        "colab": {
          "base_uri": "https://localhost:8080/",
          "height": 102
        },
        "outputId": "0de5f3d8-6868-41b5-bf33-b88d27071333"
      },
      "source": [
        "range(5)\n",
        "range(3)\n",
        "range(2,5)\n",
        "range(8,10)\n",
        "range(2,10,3)\n",
        "for i in range(5):\n",
        "  print(i)"
      ],
      "execution_count": 5,
      "outputs": [
        {
          "output_type": "stream",
          "text": [
            "0\n",
            "1\n",
            "2\n",
            "3\n",
            "4\n"
          ],
          "name": "stdout"
        }
      ]
    },
    {
      "cell_type": "code",
      "metadata": {
        "id": "LHirZtDK3z_i",
        "colab_type": "code",
        "colab": {
          "base_uri": "https://localhost:8080/",
          "height": 204
        },
        "outputId": "7a031c45-404e-4260-8185-9e6173fe760a"
      },
      "source": [
        "for i in range (5):\n",
        "  print(i)\n",
        "for i in range(2,5):\n",
        "  print(i)\n",
        "for i in range(2,10,3):\n",
        "  print(i)"
      ],
      "execution_count": 6,
      "outputs": [
        {
          "output_type": "stream",
          "text": [
            "0\n",
            "1\n",
            "2\n",
            "3\n",
            "4\n",
            "2\n",
            "3\n",
            "4\n",
            "2\n",
            "5\n",
            "8\n"
          ],
          "name": "stdout"
        }
      ]
    },
    {
      "cell_type": "code",
      "metadata": {
        "id": "YAMExOzt4_b-",
        "colab_type": "code",
        "colab": {
          "base_uri": "https://localhost:8080/",
          "height": 85
        },
        "outputId": "7b96c87b-914d-4307-cb55-f9637a1b8471"
      },
      "source": [
        "start=int(input('enter a number?'))\n",
        "end=int(input(\"enter a number?\"))\n",
        "step=int(input(\"enter a number?\"))\n",
        "sum=0\n",
        "for i in range(start,end,step):\n",
        "  sum=sum+1\n",
        "  print(\"i is\",i,\"sum equals\",sum)"
      ],
      "execution_count": 7,
      "outputs": [
        {
          "output_type": "stream",
          "text": [
            "enter a number?3\n",
            "enter a number?6\n",
            "enter a number?9\n",
            "i is 3 sum equals 1\n"
          ],
          "name": "stdout"
        }
      ]
    },
    {
      "cell_type": "code",
      "metadata": {
        "id": "kQLPOgkr8pK_",
        "colab_type": "code",
        "colab": {}
      },
      "source": [
        ""
      ],
      "execution_count": 0,
      "outputs": []
    }
  ]
}