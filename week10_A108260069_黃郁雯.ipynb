{
  "nbformat": 4,
  "nbformat_minor": 0,
  "metadata": {
    "colab": {
      "name": "week10-A108260069-黃郁雯.ipynb",
      "provenance": [],
      "include_colab_link": true
    },
    "kernelspec": {
      "name": "python3",
      "display_name": "Python 3"
    }
  },
  "cells": [
    {
      "cell_type": "markdown",
      "metadata": {
        "id": "view-in-github",
        "colab_type": "text"
      },
      "source": [
        "<a href=\"https://colab.research.google.com/github/yuwnhuang/Computational-Thinking-and-Programming-Design/blob/master/week10_A108260069_%E9%BB%83%E9%83%81%E9%9B%AF.ipynb\" target=\"_parent\"><img src=\"https://colab.research.google.com/assets/colab-badge.svg\" alt=\"Open In Colab\"/></a>"
      ]
    },
    {
      "cell_type": "code",
      "metadata": {
        "id": "8jRUGeQ9ULIA",
        "colab_type": "code",
        "colab": {
          "base_uri": "https://localhost:8080/",
          "height": 100
        },
        "outputId": "486acc07-7f47-42fd-bea9-915ce1802957"
      },
      "source": [
        "print(\"You are on a deserted island in a 2D world.\")\n",
        "print(\"Try to survive until rescue arrives!\")\n",
        "print(\"Available commands are in CAPITAL letters.\")\n",
        "print(\"Any other command exits the program\")\n",
        "print(\"First LOOK around...\")"
      ],
      "execution_count": 1,
      "outputs": [
        {
          "output_type": "stream",
          "text": [
            "You are on a deserted island in a 2D world.\n",
            "Try to survive until rescue arrives!\n",
            "Available commands are in CAPITAL letters.\n",
            "Any other command exits the program\n",
            "First LOOK around...\n"
          ],
          "name": "stdout"
        }
      ]
    },
    {
      "cell_type": "code",
      "metadata": {
        "id": "lzhuyhZJW26U",
        "colab_type": "code",
        "colab": {
          "base_uri": "https://localhost:8080/",
          "height": 300
        },
        "outputId": "083aa0de-f279-423e-ec2d-51337a4bd5f3"
      },
      "source": [
        "do = input(\":: \")\n",
        "if do == \"LOOK\":\n",
        "  print(\"You are stuck in a sand ditch.\")\n",
        "  print(\"Crawl out LEFT or RIGHT.\")\n",
        "  do = input(\":: \")\n",
        "  if do == \"LEFT\":\n",
        "     print(\"You see a STARFISH and a CRAB on the sand.\")\n",
        "     print(\"And you're hungry! Which do you eat?\")\n",
        "     do = input(\":: \")\n",
        "     if do == \"STARFISH\":\n",
        "      print(\"Oh no! You immediately don't feel well.\")\n",
        "      print(\"You do not survive :(\")\n",
        "     elif do == \"CRAB\":\n",
        "         print(\"Raw crab should be fine, right? YES or NO.\")\n",
        "         do = input(\":: \")\n",
        "         if do == \"YES\":\n",
        "            print(\"Ok, You eat it raw. Fingers crossed.\")\n",
        "            print(\"Food in your belly helps you see a TREE.\")\n",
        "            do = input(\":: \") \n",
        "            if do == \"TREE\":\n",
        "             print(\"It's a coconut tree! And you're thirsty!\") \n",
        "             print(\"Do you drink the coconut water? YES or NO.\")\n",
        "             do = input(\":: \")\n",
        "             if do == \"YES\":\n",
        "                print(\"Oh boy. Coconut water and raw crab don't mix.\")\n",
        "                print(\"You do not survive :(\")\n",
        "             elif do == \"NO\":\n",
        "                print(\"Good choice.\")\n",
        "                print(\"Look! It's a rescue plane! You made it! \\o/\")\n",
        "         elif do == \"NO\":\n",
        "            print(\"Well, there's nothing else left to eat.\")\n",
        "            print(\"You do not survive :(\")\n",
        "     elif do == \"RIGHT\":\n",
        "        print(\"No can do. That side is very slippery.\")\n",
        "        print(\"You fall very far into some weird cavern.\") \n",
        "        print(\"You do not survive :(\") \n",
        "else:\n",
        "            print(\"You can only do actions shown in capital letters.\")\n",
        "            print(\"Try again!\")"
      ],
      "execution_count": 31,
      "outputs": [
        {
          "output_type": "stream",
          "text": [
            ":: LOOK\n",
            "You are stuck in a sand ditch.\n",
            "Crawl out LEFT or RIGHT.\n",
            ":: LEFT\n",
            "You see a STARFISH and a CRAB on the sand.\n",
            "And you're hungry! Which do you eat?\n",
            ":: CRAB\n",
            "Raw crab should be fine, right? YES or NO.\n",
            ":: YES\n",
            "Ok, You eat it raw. Fingers crossed.\n",
            "Food in your belly helps you see a TREE.\n",
            ":: TREE\n",
            "It's a coconut tree! And you're thirsty!\n",
            "Do you drink the coconut water? YES or NO.\n",
            ":: YES\n",
            "Oh boy. Coconut water and raw crab don't mix.\n",
            "You do not survive :(\n"
          ],
          "name": "stdout"
        }
      ]
    },
    {
      "cell_type": "code",
      "metadata": {
        "id": "UZtiijalYDCB",
        "colab_type": "code",
        "colab": {
          "base_uri": "https://localhost:8080/",
          "height": 83
        },
        "outputId": "96440dbe-676a-4d36-dd01-f6935e272aaf"
      },
      "source": [
        "import random\n",
        "my_choice = int(input(\"請出拳 [0] 剪⼑ [1] ⽯頭 [2] 布\"))\n",
        "print(\"我出拳為\", my_choice)\n",
        "com_choice = random.randint(0, 2)\n",
        "print(\"電腦出拳為\", com_choice)\n",
        "if my_choice == (com_choice + 1) % 3:\n",
        " print(\"我贏了\")\n",
        "elif my_choice == com_choice:\n",
        " print(\"平⼿\")\n",
        "else:\n",
        " print(\"我輸了\")"
      ],
      "execution_count": 33,
      "outputs": [
        {
          "output_type": "stream",
          "text": [
            "請出拳 [0] 剪⼑ [1] ⽯頭 [2] 布2\n",
            "我出拳為 2\n",
            "電腦出拳為 2\n",
            "平⼿\n"
          ],
          "name": "stdout"
        }
      ]
    },
    {
      "cell_type": "code",
      "metadata": {
        "id": "OKpyBZ9Zh2FH",
        "colab_type": "code",
        "colab": {
          "base_uri": "https://localhost:8080/",
          "height": 83
        },
        "outputId": "539c9dfa-96f0-4342-d3d7-67419026153b"
      },
      "source": [
        "import random\n",
        "my_choice = int(input(\"請出拳 [0] 蟲 [1] 雞 [2] 老虎 [3] 棒⼦\"))\n",
        "print(\"你出的拳:\", my_choice)\n",
        "com_choice = random.randint(0, 3)\n",
        "print(\"電腦出拳為\", com_choice)\n",
        "if my_choice == (com_choice + 1) % 4:\n",
        " print(\"我贏了\")\n",
        "elif com_choice == (my_choice + 1) % 4:\n",
        " print(\"電腦贏了\")\n",
        "else:\n",
        " print(\"平手\")"
      ],
      "execution_count": 34,
      "outputs": [
        {
          "output_type": "stream",
          "text": [
            "請出拳 [0] 蟲 [1] 雞 [2] 老虎 [3] 棒⼦0\n",
            "你出的拳: 0\n",
            "電腦出拳為 2\n",
            "平手\n"
          ],
          "name": "stdout"
        }
      ]
    },
    {
      "cell_type": "code",
      "metadata": {
        "id": "KEWFTuXFmiwl",
        "colab_type": "code",
        "colab": {}
      },
      "source": [
        "                                                                                                                                                                                                                                                                                                                                                                                                                                                                                                   "
      ],
      "execution_count": 0,
      "outputs": []
    }
  ]
}