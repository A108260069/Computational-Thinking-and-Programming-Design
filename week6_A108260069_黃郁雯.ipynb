{
  "nbformat": 4,
  "nbformat_minor": 0,
  "metadata": {
    "colab": {
      "name": "week6-A108260069-黃郁雯.ipynb",
      "provenance": [],
      "include_colab_link": true
    },
    "kernelspec": {
      "name": "python3",
      "display_name": "Python 3"
    }
  },
  "cells": [
    {
      "cell_type": "markdown",
      "metadata": {
        "id": "view-in-github",
        "colab_type": "text"
      },
      "source": [
        "<a href=\"https://colab.research.google.com/github/yuwnhuang/Computational-Thinking-and-Programming-Design/blob/master/week6_A108260069_%E9%BB%83%E9%83%81%E9%9B%AF.ipynb\" target=\"_parent\"><img src=\"https://colab.research.google.com/assets/colab-badge.svg\" alt=\"Open In Colab\"/></a>"
      ]
    },
    {
      "cell_type": "code",
      "metadata": {
        "id": "LadZ-qkmIKbA",
        "colab_type": "code",
        "outputId": "3dc690f6-81bb-4be0-92ab-108c1c508005",
        "colab": {
          "base_uri": "https://localhost:8080/",
          "height": 90
        }
      },
      "source": [
        "minutes_to_convert = 123\n",
        "hours_decimal = minutes_to_convert/60\n",
        "hours_part = int(hours_decimal)\n",
        "minutes_decimal = hours_decimal-hours_part\n",
        "minutes_part = round(minutes_decimal*60)\n",
        "print(\"Hours\")\n",
        "print(hours_part)\n",
        "print(\"Minutes\")\n",
        "print(minutes_part)"
      ],
      "execution_count": 0,
      "outputs": [
        {
          "output_type": "stream",
          "text": [
            "Hours\n",
            "2\n",
            "Minutes\n",
            "3\n"
          ],
          "name": "stdout"
        }
      ]
    },
    {
      "cell_type": "code",
      "metadata": {
        "id": "5VBUp1nbQzf9",
        "colab_type": "code",
        "outputId": "f2d4e3bc-1209-4fb3-b8a6-2327f0a9cd6f",
        "colab": {
          "base_uri": "https://localhost:8080/",
          "height": 126
        }
      },
      "source": [
        "name = input('請問貴姓大名？')\n",
        "print('你好，', name)\n",
        "y = int(input('請問年紀？'))\n",
        "print('原來你', y,'歲')\n",
        "w = float(input('請問體重？'))\n",
        "print('體重為', w)"
      ],
      "execution_count": 0,
      "outputs": [
        {
          "output_type": "stream",
          "text": [
            "請問貴姓大名？黃郁雯\n",
            "你好， 黃郁雯\n",
            "請問年紀？18\n",
            "原來你 18 歲\n",
            "請問體重？46\n",
            "體重為 46.0\n"
          ],
          "name": "stdout"
        }
      ]
    },
    {
      "cell_type": "code",
      "metadata": {
        "id": "e54tgfW8TVeY",
        "colab_type": "code",
        "outputId": "91ee54f1-152e-47a4-9551-f4705233eeee",
        "colab": {
          "base_uri": "https://localhost:8080/",
          "height": 90
        }
      },
      "source": [
        "上衣 = int(input('請輸入上衣數量？'))\n",
        "褲子 = int(input('請輸入褲子數量？'))\n",
        "背心 = int(input('請輸入背心數量？'))\n",
        "總金額 = 上衣*300 + 褲子*350 + 背心*400\n",
        "print('訂購服裝的總金額為', 總金額)"
      ],
      "execution_count": 0,
      "outputs": [
        {
          "output_type": "stream",
          "text": [
            "請輸入上衣數量？20\n",
            "請輸入褲子數量？30\n",
            "請輸入背心數量？40\n",
            "訂購服裝的總金額為 32500\n"
          ],
          "name": "stdout"
        }
      ]
    },
    {
      "cell_type": "code",
      "metadata": {
        "id": "6M6_ENXHc64Y",
        "colab_type": "code",
        "outputId": "2ad071f9-a364-40af-b132-3f303b502a69",
        "colab": {
          "base_uri": "https://localhost:8080/",
          "height": 108
        }
      },
      "source": [
        "a=int(input(\"請輸入第一次期中考成績\"))\n",
        "b=int(input(\"請輸入第二次期中考成績\"))\n",
        "c=int(input(\"請輸入期末考成績\"))\n",
        "w=(a+b+c)\n",
        "s=(w/3)\n",
        "print(\"總分為\",w)\n",
        "print(\"平均為\",s)"
      ],
      "execution_count": 0,
      "outputs": [
        {
          "output_type": "stream",
          "text": [
            "請輸入第一次期中考成績75\n",
            "請輸入第二次期中考成績80\n",
            "請輸入期末考成績65\n",
            "總分為 220\n",
            "平均為 73.33333333333333\n"
          ],
          "name": "stdout"
        }
      ]
    },
    {
      "cell_type": "code",
      "metadata": {
        "id": "M5SChLfRfL_W",
        "colab_type": "code",
        "outputId": "7217ef3b-f55f-41fa-be3a-ab3239cbdd56",
        "colab": {
          "base_uri": "https://localhost:8080/",
          "height": 72
        }
      },
      "source": [
        "x=int(input(\"請輸入幾尺?\"))\n",
        "y=int(input(\"請輸入幾吋?\"))\n",
        "z=(x*12+y)*2.54\n",
        "print(\"轉換成\",z,\"公分\")"
      ],
      "execution_count": 0,
      "outputs": [
        {
          "output_type": "stream",
          "text": [
            "請輸入幾尺?5\n",
            "請輸入幾吋?8\n",
            "轉換成 172.72 公分\n"
          ],
          "name": "stdout"
        }
      ]
    },
    {
      "cell_type": "code",
      "metadata": {
        "id": "i8B50bfmfrHF",
        "colab_type": "code",
        "colab": {
          "base_uri": "https://localhost:8080/",
          "height": 51
        },
        "outputId": "1ca4f70a-f42b-4b0e-80c5-d7244239d8ea"
      },
      "source": [
        "s=int(input(\"請輸入座號\"))\n",
        "a=s/5\n",
        "組別=int(a+1)\n",
        "print(\"組別為\",組別)"
      ],
      "execution_count": 1,
      "outputs": [
        {
          "output_type": "stream",
          "text": [
            "請輸入座號19\n",
            "組別為 4\n"
          ],
          "name": "stdout"
        }
      ]
    },
    {
      "cell_type": "code",
      "metadata": {
        "id": "q_aGI5LlN3Uk",
        "colab_type": "code",
        "colab": {
          "base_uri": "https://localhost:8080/",
          "height": 51
        },
        "outputId": "3853e353-7c99-432b-e694-85a09c3bafaf"
      },
      "source": [
        "飲料數量=int(input(\"輸入購買飲料的罐數\"))\n",
        "飲料一打=int(飲料數量/12)\n",
        "飲料個數=int(飲料數量-飲料一打*12)\n",
        "一打價格=飲料一打*200\n",
        "個數價格=飲料個數*20\n",
        "總價=一打價格+個數價格\n",
        "print(\"需花費\",總價)"
      ],
      "execution_count": 2,
      "outputs": [
        {
          "output_type": "stream",
          "text": [
            "輸入購買飲料的罐數30\n",
            "需花費 520\n"
          ],
          "name": "stdout"
        }
      ]
    },
    {
      "cell_type": "code",
      "metadata": {
        "id": "ystKpZYEP0uW",
        "colab_type": "code",
        "colab": {}
      },
      "source": [
        ""
      ],
      "execution_count": 0,
      "outputs": []
    }
  ]
}