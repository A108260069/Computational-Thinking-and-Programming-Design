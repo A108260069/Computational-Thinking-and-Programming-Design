{
  "nbformat": 4,
  "nbformat_minor": 0,
  "metadata": {
    "colab": {
      "name": "week8-A108260069-黃郁雯.ipynb",
      "provenance": [],
      "include_colab_link": true
    },
    "kernelspec": {
      "name": "python3",
      "display_name": "Python 3"
    }
  },
  "cells": [
    {
      "cell_type": "markdown",
      "metadata": {
        "id": "view-in-github",
        "colab_type": "text"
      },
      "source": [
        "<a href=\"https://colab.research.google.com/github/yuwnhuang/Computational-Thinking-and-Programming-Design/blob/master/week8_A108260069_%E9%BB%83%E9%83%81%E9%9B%AF.ipynb\" target=\"_parent\"><img src=\"https://colab.research.google.com/assets/colab-badge.svg\" alt=\"Open In Colab\"/></a>"
      ]
    },
    {
      "cell_type": "code",
      "metadata": {
        "id": "KoVjLtXbQFbI",
        "colab_type": "code",
        "colab": {
          "base_uri": "https://localhost:8080/",
          "height": 68
        },
        "outputId": "36040902-452d-4c1f-9680-1d725990ad99"
      },
      "source": [
        "print(\"Welcome to the Mashup Game!\")\n",
        "name1 = input(\"Enter one full name (FIRST LAST): \")\n",
        "name2 = input(\"Enter another full name (FIRST LAST): \")"
      ],
      "execution_count": 1,
      "outputs": [
        {
          "output_type": "stream",
          "text": [
            "Welcome to the Mashup Game!\n",
            "Enter one full name (FIRST LAST):  Aqua Man\n",
            "Enter another full name (FIRST LAST):  Cat Woman\n"
          ],
          "name": "stdout"
        }
      ]
    },
    {
      "cell_type": "code",
      "metadata": {
        "id": "8vHJwJxxSXnN",
        "colab_type": "code",
        "colab": {
          "base_uri": "https://localhost:8080/",
          "height": 68
        },
        "outputId": "52282f79-390a-48b2-ff4c-821016c39a0e"
      },
      "source": [
        "print(\"All done! Here are two possibilities, pick the one you like best!\")\n",
        "print('Aqua Mman')\n",
        "print('Cua Woan')"
      ],
      "execution_count": 4,
      "outputs": [
        {
          "output_type": "stream",
          "text": [
            "All done! Here are two possibilities, pick the one you like best!\n",
            "Aqua Mman\n",
            "Cua Woan\n"
          ],
          "name": "stdout"
        }
      ]
    },
    {
      "cell_type": "code",
      "metadata": {
        "id": "BYWSScbFTs7a",
        "colab_type": "code",
        "colab": {
          "base_uri": "https://localhost:8080/",
          "height": 51
        },
        "outputId": "3b5d0c20-ebc9-4261-e612-47536277114a"
      },
      "source": [
        "s = input('請輸入一個字串？')\n",
        "print('迴文判斷結果為', s == s[::-1])"
      ],
      "execution_count": 6,
      "outputs": [
        {
          "output_type": "stream",
          "text": [
            "請輸入一個字串？abcdefggfedcba\n",
            "迴文判斷結果為 True\n"
          ],
          "name": "stdout"
        }
      ]
    },
    {
      "cell_type": "code",
      "metadata": {
        "id": "2hAuKE9bebQS",
        "colab_type": "code",
        "colab": {
          "base_uri": "https://localhost:8080/",
          "height": 136
        },
        "outputId": "63d3e7b9-a4f3-475d-b428-e0c365e67899"
      },
      "source": [
        "待辦事項 = []\n",
        "工作 = input('請輸入待辦事項？')\n",
        "待辦事項.append(工作)\n",
        "工作 = input('請輸入待辦事項？')\n",
        "待辦事項.append(工作)\n",
        "工作 = input('請輸入待辦事項？')\n",
        "待辦事項.append(工作)\n",
        "工作 = input('請輸入待辦事項？')\n",
        "待辦事項.append(工作)\n",
        "工作 = input('請輸入待辦事項？')\n",
        "待辦事項.append(工作)\n",
        "print(待辦事項.pop(0), 待辦事項.pop(0), 待辦事項)\n",
        "print(待辦事項.pop(), 待辦事項)"
      ],
      "execution_count": 7,
      "outputs": [
        {
          "output_type": "stream",
          "text": [
            "請輸入待辦事項？打球\n",
            "請輸入待辦事項？閱讀\n",
            "請輸入待辦事項？吃飯\n",
            "請輸入待辦事項？借書\n",
            "請輸入待辦事項？寫程式\n",
            "打球 閱讀 ['吃飯', '借書', '寫程式']\n",
            "寫程式 ['吃飯', '借書']\n"
          ],
          "name": "stdout"
        }
      ]
    },
    {
      "cell_type": "code",
      "metadata": {
        "id": "VxeCiV2AfZkh",
        "colab_type": "code",
        "colab": {
          "base_uri": "https://localhost:8080/",
          "height": 85
        },
        "outputId": "592dffe8-495a-49d5-9fee-5ad74ce06e5d"
      },
      "source": [
        "s = input('請輸入一行英文句子？')\n",
        "words = s.split(' ')\n",
        "print('將英文句子以空白字元切割後，獲得單字為', words)\n",
        "s2 = ' '.join(words)\n",
        "print('以空白字元結合所有單字後，獲得句子為', s2)\n",
        "s3 = s.title()\n",
        "print('將每個單字字首轉大寫後，獲得句子為',s3)"
      ],
      "execution_count": 8,
      "outputs": [
        {
          "output_type": "stream",
          "text": [
            "請輸入一行英文句子？an apple a day keeps the doctor away\n",
            "將英文句子以空白字元切割後，獲得單字為 ['an', 'apple', 'a', 'day', 'keeps', 'the', 'doctor', 'away']\n",
            "以空白字元結合所有單字後，獲得句子為 an apple a day keeps the doctor away\n",
            "將每個單字字首轉大寫後，獲得句子為 An Apple A Day Keeps The Doctor Away\n"
          ],
          "name": "stdout"
        }
      ]
    },
    {
      "cell_type": "code",
      "metadata": {
        "id": "kYivO4N5iKCW",
        "colab_type": "code",
        "colab": {
          "base_uri": "https://localhost:8080/",
          "height": 51
        },
        "outputId": "8f5c6b7e-ba7d-439d-ec33-60e5cae09051"
      },
      "source": [
        "s = input('請輸入一行英文句子？')\n",
        "s.strip(' .')\n",
        "words = s.split(' ')\n",
        "print(words[::-1])"
      ],
      "execution_count": 9,
      "outputs": [
        {
          "output_type": "stream",
          "text": [
            "請輸入一行英文句子？an apple a day keeps the doctor away\n",
            "['away', 'doctor', 'the', 'keeps', 'day', 'a', 'apple', 'an']\n"
          ],
          "name": "stdout"
        }
      ]
    },
    {
      "cell_type": "code",
      "metadata": {
        "id": "PF7YOC-8jd8b",
        "colab_type": "code",
        "colab": {}
      },
      "source": [
        ""
      ],
      "execution_count": 0,
      "outputs": []
    }
  ]
}